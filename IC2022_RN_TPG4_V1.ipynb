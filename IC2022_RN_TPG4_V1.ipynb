{
  "nbformat": 4,
  "nbformat_minor": 0,
  "metadata": {
    "colab": {
      "provenance": [],
      "collapsed_sections": [
        "6Ibk-P_5063R",
        "SU2UGJqd-7kd",
        "n03x3PiK_5vs"
      ],
      "mount_file_id": "1kiUjodyjhyDoMnEsQ-Tx6wqGoe5RTFgZ",
      "authorship_tag": "ABX9TyPui1Fud8l1TfOb2k282ApV",
      "include_colab_link": true
    },
    "kernelspec": {
      "name": "python3",
      "display_name": "Python 3"
    },
    "language_info": {
      "name": "python"
    }
  },
  "cells": [
    {
      "cell_type": "markdown",
      "metadata": {
        "id": "view-in-github",
        "colab_type": "text"
      },
      "source": [
        "<a href=\"https://colab.research.google.com/github/andresbenintende/TP-IA-2022-G6/blob/master/IC2022_RN_TPG4_V1.ipynb\" target=\"_parent\"><img src=\"https://colab.research.google.com/assets/colab-badge.svg\" alt=\"Open In Colab\"/></a>"
      ]
    },
    {
      "cell_type": "markdown",
      "source": [
        "# Reconocimiento de Dígitos Hablados en Inglés\n",
        "\n",
        "---\n",
        "Este algoritmo tiene como objetivo predecir dígitos hablados en inglés utilizando la librería Keras en Python.\n",
        "\n",
        "Este documento presenta tres secciónes: \n",
        "- Sección 1: Extracción y tratamiento del dataset\n",
        "- Sección 2: Entrenamiento del modelo utilizando el dataset original (https://github.com/Jakobovski/free-spoken-digit-dataset)\n",
        "- Sección 3: Entrenamiento del modelo utilizando un conjunto de datos extra\n",
        "\n",
        "En la Sección 1 se toman los archivos .WAV y se guardan en archivos .CSV para luego ser almacenados utilizando la librería Pandas.\n",
        "\n",
        "En la Sección 2 se realiza el procesamiento de los datos, separándolos en datos de entrenamiento, validación y prueba. También se realiza la normalización, preprarándolos para ser ingresados en la Red Neuronal. Por último, se realiza el entrenamiento de la red neuronal, se efectúa la prueba de la misma y se exponen los resultados.\n",
        "\n",
        "En la Sección 3 es similar a la Sección 2, pero se incluyen datos extra, obtenidos de tres personas con acentos extranjeros:\n",
        "- Una niña con acento canadiense\n",
        "- Un hombre con acento hindú\n",
        "- Un hombre con acento brasileño\n",
        "\n",
        "\n"
      ],
      "metadata": {
        "id": "XkGc6PIYsmIm"
      }
    },
    {
      "cell_type": "markdown",
      "source": [
        "# Sección 1\n",
        "Se generan los archivos .CSV que almacenarán los datos que manejará el modelo.\n",
        "\n",
        "Datos de entrenamiento (train): /content/drive/MyDrive/IC2022-RN-G4/data/recordings/train\n",
        "\n",
        "Datos de prueba (test): /content/drive/MyDrive/IC2022-RN-G4/data/recordings/test\n",
        "\n",
        "Datos Extra para entrenamiento (extraTrainDatatrain): /content/drive/MyDrive/IC2022-RN-G4/data/recordings/TrainExtras\n",
        "\n",
        "Datos Extra para entrenamiento (extraTestDatatrain): /content/drive/MyDrive/IC2022-RN-G4/data/recordings/TestExtras"
      ],
      "metadata": {
        "id": "p7lAk43owS_l"
      }
    },
    {
      "cell_type": "code",
      "execution_count": 1,
      "metadata": {
        "id": "UrY57y02hoE7"
      },
      "outputs": [],
      "source": [
        "# Si es True, se leen los archivos .WAV y se guardan sus características en archivos .CSV\n",
        "CREATE_CSV_FILES = True"
      ]
    },
    {
      "cell_type": "code",
      "source": [
        "# Se definen los nombres de los archivos .CSV\n",
        "TRAIN_CSV_FILE = \"train.csv\"\n",
        "TEST_CSV_FILE = \"test.csv\"\n",
        "EXTRA_TRAIN_CSV_FILE = \"extra_train.csv\"\n",
        "EXTRA_TEST_CSV_FILE = \"extra_test.csv\""
      ],
      "metadata": {
        "id": "B0jkGEkTs3uC"
      },
      "execution_count": 2,
      "outputs": []
    },
    {
      "cell_type": "code",
      "source": [
        "# Se cargan las características de los archivos .WAV en los archivos .CSV\n",
        "import matplotlib.pyplot as plt\n",
        "import numpy as np\n",
        "from matplotlib import cm\n",
        "import librosa\n",
        "import csv\n",
        "import os\n",
        "\n",
        "def cargarCaractWAVs(carpetaWavs, nombreCSV):\n",
        "    print(\"Las características de los archivos de la carpeta \"+carpetaWavs+\" se guardarán en \"+nombreCSV)\n",
        "    header = 'nombre cromagrama raiz_media_cuadrada centroide_espectral ancho_banda_espectral rolloff zero_crossing_rate'\n",
        "    \n",
        "    for i in range(1, 21):\n",
        "        header += f' mfcc{i}'\n",
        "\n",
        "    header = header.split()\n",
        "    print('Cabecera CSV: ', header)\n",
        "    file = open(nombreCSV, 'w', newline='')\n",
        "    writer = csv.writer(file)\n",
        "    writer.writerow(header)\n",
        " \n",
        "    for nombre in os.listdir(carpetaWavs):\n",
        "        wavFile = f'{carpetaWavs}/{nombre}'\n",
        "        y, sr = librosa.load(wavFile, mono=True, duration=30)\n",
        "\n",
        "        # Remover silencios al inicio y fin del archivo\n",
        "        y, index = librosa.effects.trim(y)\n",
        "\n",
        "        cromagrama = librosa.feature.chroma_stft(y=y, sr=sr)\n",
        "        raiz_media_cuadrada = librosa.feature.rms(y=y)\n",
        "        spec_cent = librosa.feature.spectral_centroid(y=y, sr=sr)\n",
        "        spec_bw = librosa.feature.spectral_bandwidth(y=y, sr=sr)\n",
        "        rolloff = librosa.feature.spectral_rolloff(y=y, sr=sr)\n",
        "        zcr = librosa.feature.zero_crossing_rate(y)\n",
        "        mfcc = librosa.feature.mfcc(y=y, sr=sr)\n",
        "        to_append = f'{nombre} {np.mean(cromagrama)} {np.mean(raiz_media_cuadrada)} {np.mean(spec_cent)} {np.mean(spec_bw)} {np.mean(rolloff)} {np.mean(zcr)}'\n",
        "        for e in mfcc:\n",
        "            to_append += f' {np.mean(e)}'\n",
        "        writer.writerow(to_append.split())\n",
        "    file.close()\n",
        "    print(\"Fin cargarCaractWAVs\")\n",
        "\n",
        "if (CREATE_CSV_FILES == True):\n",
        "    cargarCaractWAVs(\"/content/drive/MyDrive/IC2022-RN-G4/data/recordings/train\", TRAIN_CSV_FILE)\n",
        "    cargarCaractWAVs(\"/content/drive/MyDrive/IC2022-RN-G4/data/recordings/test\", TEST_CSV_FILE)\n",
        "    cargarCaractWAVs(\"/content/drive/MyDrive/IC2022-RN-G4/data/recordings/TrainExtras\", EXTRA_TRAIN_CSV_FILE)\n",
        "    cargarCaractWAVs(\"/content/drive/MyDrive/IC2022-RN-G4/data/recordings/TestExtras\", EXTRA_TEST_CSV_FILE)\n",
        "    print(\"Se crearon los archivos CSV\")\n",
        "else:\n",
        "    print(\"Se omite la creación de archivos CSV\")"
      ],
      "metadata": {
        "colab": {
          "base_uri": "https://localhost:8080/"
        },
        "id": "z9_vLwgLtA2i",
        "outputId": "31089268-58c1-4ad8-cc24-65915555592e"
      },
      "execution_count": 4,
      "outputs": [
        {
          "output_type": "stream",
          "name": "stdout",
          "text": [
            "Las características de los archivos de la carpeta /content/drive/MyDrive/IC2022-RN-G4/data/recordings/train se guardarán en train.csv\n",
            "Cabecera CSV:  ['nombre', 'cromagrama', 'raiz_media_cuadrada', 'centroide_espectral', 'ancho_banda_espectral', 'rolloff', 'zero_crossing_rate', 'mfcc1', 'mfcc2', 'mfcc3', 'mfcc4', 'mfcc5', 'mfcc6', 'mfcc7', 'mfcc8', 'mfcc9', 'mfcc10', 'mfcc11', 'mfcc12', 'mfcc13', 'mfcc14', 'mfcc15', 'mfcc16', 'mfcc17', 'mfcc18', 'mfcc19', 'mfcc20']\n",
            "Fin cargarCaractWAVs\n",
            "Las características de los archivos de la carpeta /content/drive/MyDrive/IC2022-RN-G4/data/recordings/test se guardarán en test.csv\n",
            "Cabecera CSV:  ['nombre', 'cromagrama', 'raiz_media_cuadrada', 'centroide_espectral', 'ancho_banda_espectral', 'rolloff', 'zero_crossing_rate', 'mfcc1', 'mfcc2', 'mfcc3', 'mfcc4', 'mfcc5', 'mfcc6', 'mfcc7', 'mfcc8', 'mfcc9', 'mfcc10', 'mfcc11', 'mfcc12', 'mfcc13', 'mfcc14', 'mfcc15', 'mfcc16', 'mfcc17', 'mfcc18', 'mfcc19', 'mfcc20']\n",
            "Fin cargarCaractWAVs\n",
            "Las características de los archivos de la carpeta /content/drive/MyDrive/IC2022-RN-G4/data/recordings/TrainExtras se guardarán en extra_train.csv\n",
            "Cabecera CSV:  ['nombre', 'cromagrama', 'raiz_media_cuadrada', 'centroide_espectral', 'ancho_banda_espectral', 'rolloff', 'zero_crossing_rate', 'mfcc1', 'mfcc2', 'mfcc3', 'mfcc4', 'mfcc5', 'mfcc6', 'mfcc7', 'mfcc8', 'mfcc9', 'mfcc10', 'mfcc11', 'mfcc12', 'mfcc13', 'mfcc14', 'mfcc15', 'mfcc16', 'mfcc17', 'mfcc18', 'mfcc19', 'mfcc20']\n",
            "Fin cargarCaractWAVs\n",
            "Las características de los archivos de la carpeta /content/drive/MyDrive/IC2022-RN-G4/data/recordings/TestExtras se guardarán en extra_test.csv\n",
            "Cabecera CSV:  ['nombre', 'cromagrama', 'raiz_media_cuadrada', 'centroide_espectral', 'ancho_banda_espectral', 'rolloff', 'zero_crossing_rate', 'mfcc1', 'mfcc2', 'mfcc3', 'mfcc4', 'mfcc5', 'mfcc6', 'mfcc7', 'mfcc8', 'mfcc9', 'mfcc10', 'mfcc11', 'mfcc12', 'mfcc13', 'mfcc14', 'mfcc15', 'mfcc16', 'mfcc17', 'mfcc18', 'mfcc19', 'mfcc20']\n",
            "Fin cargarCaractWAVs\n",
            "Se crearon los archivos CSV\n"
          ]
        }
      ]
    },
    {
      "cell_type": "code",
      "source": [
        "# Se lee el dataset y se convierte el nombre del archivo al número correspondiente\n",
        "\n",
        "import pandas as pd\n",
        "import csv\n",
        "from sklearn import preprocessing\n",
        "\n",
        "def preprocesamientoDatos(csvFileName):\n",
        "    print(\"Procesando \"+csvFileName+ \" ...\")\n",
        "    data = pd.read_csv(csvFileName)\n",
        "    \n",
        "    \n",
        "    filenames = data['nombre'].str[:1]\n",
        "    \n",
        "    data['numero'] = data['nombre'].str[:1].astype('int')\n",
        "\n",
        "    # Se borran las columnas innecesarias\n",
        "    data = data.drop(['nombre'],axis=1)\n",
        "    # data = data.drop(['label'],axis=1)\n",
        "    data = data.drop(['cromagrama'],axis=1)\n",
        "    data.shape\n",
        "\n",
        "    print(\"¡Preprocesamiento finalizado!\")\n",
        "    print(data.head())\n",
        "    return data\n",
        "\n",
        "trainData = preprocesamientoDatos(TRAIN_CSV_FILE)\n",
        "testData = preprocesamientoDatos(TEST_CSV_FILE)\n",
        "extraTrainData = preprocesamientoDatos(EXTRA_TRAIN_CSV_FILE)\n",
        "extraTestData = preprocesamientoDatos(EXTRA_TEST_CSV_FILE)"
      ],
      "metadata": {
        "colab": {
          "base_uri": "https://localhost:8080/"
        },
        "id": "d32PvuVo3HUN",
        "outputId": "d9e909c6-ad3d-4b1f-ab54-758e8a46274b"
      },
      "execution_count": 5,
      "outputs": [
        {
          "output_type": "stream",
          "name": "stdout",
          "text": [
            "Procesando train.csv ...\n",
            "¡Preprocesamiento finalizado!\n",
            "   raiz_media_cuadrada  centroide_espectral  ancho_banda_espectral  \\\n",
            "0             0.075921           824.480154             858.213130   \n",
            "1             0.074931           774.493499             772.333807   \n",
            "2             0.028487          1162.843263            1100.444087   \n",
            "3             0.092833           665.879010             523.023864   \n",
            "4             0.054151           781.900141             688.667368   \n",
            "\n",
            "       rolloff  zero_crossing_rate       mfcc1       mfcc2      mfcc3  \\\n",
            "0  1613.644409            0.042297 -322.060059  232.998245 -51.712025   \n",
            "1  1477.416992            0.040093 -327.737579  218.564575 -25.355339   \n",
            "2  2580.069247            0.065563 -376.365540  210.174469 -70.058014   \n",
            "3  1043.093693            0.043457 -340.245453  230.760590  12.917267   \n",
            "4  1258.154297            0.045875 -401.825195  180.382248 -34.075562   \n",
            "\n",
            "       mfcc4      mfcc5  ...     mfcc12     mfcc13     mfcc14     mfcc15  \\\n",
            "0  15.939235  25.173307  ... -26.272842  -3.792849  -5.193781 -16.731691   \n",
            "1  11.661521  32.653767  ... -24.229969   3.586020  -8.172140 -17.759714   \n",
            "2  47.193233  43.205830  ... -23.114925  14.395788  -1.103024 -14.382156   \n",
            "3 -27.547201 -16.519947  ... -17.637327   2.295099  -2.621134 -10.114317   \n",
            "4  -9.537338  -0.483983  ... -16.311764 -10.026578 -10.494679 -13.019768   \n",
            "\n",
            "      mfcc16     mfcc17     mfcc18    mfcc19     mfcc20  numero  \n",
            "0  -4.749527 -10.321361  -9.457353 -0.737482 -14.042778       9  \n",
            "1   2.656871 -10.349298 -12.677651  9.431602  -8.102055       0  \n",
            "2  13.531723  -0.962733 -10.508421  7.507799  -4.502621       6  \n",
            "3   2.292310  -5.414047 -17.011995 -6.671363  -8.125060       4  \n",
            "4  -4.282246  -9.737486  -9.638337 -1.293870 -11.442932       1  \n",
            "\n",
            "[5 rows x 26 columns]\n",
            "Procesando test.csv ...\n",
            "¡Preprocesamiento finalizado!\n",
            "   raiz_media_cuadrada  centroide_espectral  ancho_banda_espectral  \\\n",
            "0             0.009614           831.394668             613.185545   \n",
            "1             0.004688          1661.448625            1074.573159   \n",
            "2             0.007092          1043.433327             928.233875   \n",
            "3             0.005465          1352.463332             861.744612   \n",
            "4             0.056002          1136.595061            1150.532273   \n",
            "\n",
            "       rolloff  zero_crossing_rate       mfcc1       mfcc2      mfcc3  \\\n",
            "0  1230.263672            0.059928 -528.811462  219.852921 -22.935833   \n",
            "1  2830.180664            0.149056 -561.098022  167.324722 -71.552994   \n",
            "2  2006.774902            0.060927 -539.118591  217.114471 -69.287117   \n",
            "3  2218.996582            0.111279 -524.566467  216.070465 -90.793823   \n",
            "4  2686.267090            0.044759 -352.864960  187.533432 -56.102840   \n",
            "\n",
            "       mfcc4      mfcc5  ...     mfcc12     mfcc13    mfcc14     mfcc15  \\\n",
            "0  -7.370600   0.827284  ... -21.281000   6.835956 -2.660582 -13.822102   \n",
            "1  34.616001  39.174534  ... -23.471579  10.913110  2.115628  -5.621705   \n",
            "2  16.267723  37.367619  ... -23.074350   2.096132 -2.110312  -9.949641   \n",
            "3  -6.528989  22.479149  ... -13.752790   1.513664 -8.917603 -10.085430   \n",
            "4  48.516598  45.157181  ... -27.465197   3.582980  0.298350 -14.023102   \n",
            "\n",
            "      mfcc16     mfcc17     mfcc18    mfcc19     mfcc20  numero  \n",
            "0   9.448635  -0.132232 -13.410511  0.782794  -9.963611       4  \n",
            "1  13.126786  -4.084056  -5.840947  7.877958 -15.658350       6  \n",
            "2   2.105322 -15.879885 -13.616088  5.317740 -14.852530       9  \n",
            "3  10.490135 -10.334757 -11.823360  9.700454 -12.349788       5  \n",
            "4   7.390917   0.288662  -8.857820  7.135774   0.137309       6  \n",
            "\n",
            "[5 rows x 26 columns]\n",
            "Procesando extra_train.csv ...\n",
            "¡Preprocesamiento finalizado!\n",
            "   raiz_media_cuadrada  centroide_espectral  ancho_banda_espectral  \\\n",
            "0             0.049827          1624.769803            2095.949823   \n",
            "1             0.080326          2202.086521            1642.526906   \n",
            "2             0.129862          1194.288729             873.775663   \n",
            "3             0.137598           826.611263             787.935013   \n",
            "4             0.026947          1237.332006            1217.800785   \n",
            "\n",
            "       rolloff  zero_crossing_rate       mfcc1       mfcc2      mfcc3  \\\n",
            "0  3503.759766            0.082589 -331.438049  101.028740  -2.766094   \n",
            "1  3804.293663            0.185791 -321.150757  133.906342 -32.096352   \n",
            "2  1885.351562            0.088270 -273.443909  201.311798 -73.495369   \n",
            "3  1266.690674            0.056982 -295.970703  207.567184 -19.989985   \n",
            "4  2373.621544            0.059871 -378.131775  180.803284 -40.991516   \n",
            "\n",
            "       mfcc4      mfcc5  ...     mfcc12    mfcc13     mfcc14     mfcc15  \\\n",
            "0  39.812141   9.318111  ... -20.651840 -3.382654 -14.632740  -7.583692   \n",
            "1   1.402003   4.936857  ... -29.250832 -1.310695 -10.176647 -10.673973   \n",
            "2 -21.894238  13.548925  ... -15.055882 -7.700183 -15.663633 -21.990063   \n",
            "3 -29.416519  -9.285850  ... -19.131765 -8.479688 -17.078747 -30.114771   \n",
            "4  22.486980  -8.948365  ... -32.612492 -4.706086  -8.897287 -11.220644   \n",
            "\n",
            "      mfcc16    mfcc17    mfcc18     mfcc19    mfcc20  numero  \n",
            "0  -8.091829 -7.019283  1.747487 -13.148481 -1.437279       3  \n",
            "1 -11.612547 -6.747104 -2.051033  -4.297855 -5.001845       6  \n",
            "2 -12.486136 -3.855457 -2.503788  -5.977468 -5.744850       5  \n",
            "3 -21.275890 -6.838801 -3.913749 -11.857878 -5.708918       1  \n",
            "4 -10.954265 -8.971376 -4.716593  -5.656695 -7.132962       0  \n",
            "\n",
            "[5 rows x 26 columns]\n",
            "Procesando extra_test.csv ...\n",
            "¡Preprocesamiento finalizado!\n",
            "   raiz_media_cuadrada  centroide_espectral  ancho_banda_espectral  \\\n",
            "0             0.195528           899.488398             971.796746   \n",
            "1             0.041231          2913.577096            2059.575533   \n",
            "2             0.163161          1109.429252            1148.545480   \n",
            "3             0.064109          2489.923062            1948.913867   \n",
            "4             0.235846          1187.528635            1068.765109   \n",
            "\n",
            "       rolloff  zero_crossing_rate       mfcc1       mfcc2      mfcc3  \\\n",
            "0  1528.368031            0.041859 -210.145248  182.551468 -39.944057   \n",
            "1  5141.520359            0.283914 -251.943527   75.463326 -57.034195   \n",
            "2  1853.755457            0.066579 -258.484619  153.190155 -38.194405   \n",
            "3  4288.599293            0.224596 -318.965912   99.438721 -31.473104   \n",
            "4  2150.244141            0.078102 -256.477020  129.693634 -44.495125   \n",
            "\n",
            "       mfcc4      mfcc5  ...     mfcc12     mfcc13     mfcc14     mfcc15  \\\n",
            "0   6.345419  -7.744311  ... -25.726246  -7.885590  -6.203455 -11.222146   \n",
            "1   6.342010 -36.734325  ...  -9.833044 -13.538564 -11.328973   4.167714   \n",
            "2   0.837915 -18.473522  ... -23.505714  -6.767204 -15.972770  -9.118828   \n",
            "3  25.708130   8.038482  ... -15.940129   0.498030 -10.202882  -4.147898   \n",
            "4  41.161983  -4.983344  ...   1.108040  -7.185570 -12.764976 -22.265385   \n",
            "\n",
            "      mfcc16     mfcc17     mfcc18    mfcc19    mfcc20  numero  \n",
            "0 -10.252492  -9.804987 -11.054803 -6.034941 -1.234917       9  \n",
            "1  -9.162621   6.262443 -12.257395 -1.650710 -1.550210       6  \n",
            "2 -13.452199 -11.020292  -6.123651 -6.587458  1.394909       5  \n",
            "3  -6.525738  -1.286337  -3.368851 -3.644845  2.983614       8  \n",
            "4 -11.785622  -7.918026  -9.588603 -6.189561 -7.857304       3  \n",
            "\n",
            "[5 rows x 26 columns]\n"
          ]
        }
      ]
    },
    {
      "cell_type": "markdown",
      "source": [
        "# Sección 2\n",
        "El dataset está compuesto por 1500 grabaciones, creadas por cuatro hablantes:\n",
        "Jackson, Nicolas y THeo\n",
        "A su vez, se divide de la siguiente manera:\n",
        "- Los datos de entrenamiento tienen 49 grabaciones para cada dígito de cada hablante: 1470 grabaciones en total. \n",
        "- Los datos de prueba tienen una grabación por cada dígito para cada hablante: 30 grabaciones en total.\n",
        "\n",
        "Los datos utilizados aquí provienen de las grabaciones almacenadas en:\n",
        "\n",
        "../datos/grabaciones/train\n",
        "\n",
        "../datos/grabaciones/test\n",
        "\n",
        "El modelo será entrenado para predecir el dígito hablado."
      ],
      "metadata": {
        "id": "6Ibk-P_5063R"
      }
    },
    {
      "cell_type": "code",
      "source": [
        "# Se separa el dataset en tres partes: entrenamiento, validación y prueba\n",
        "from sklearn.model_selection import train_test_split\n",
        "\n",
        "X = np.array(trainData.iloc[:, :-1], dtype = float)\n",
        "y = trainData.iloc[:, -1]\n",
        "X_train, X_val, y_train, y_val = train_test_split(X, y, test_size=0.3, random_state=42)\n",
        "\n",
        "\n",
        "X_test = np.array(testData.iloc[:, :-1], dtype = float)\n",
        "y_test = testData.iloc[:, -1]\n",
        "\n",
        "print(\"Cantidad de datos para el entrenamiento:\", y_train.shape[0])\n",
        "print(\"Cantidad de datos para la validación:\", y_val.shape[0])\n",
        "print(\"Cantidad de datos para la prueba:\", y_test.shape[0])"
      ],
      "metadata": {
        "colab": {
          "base_uri": "https://localhost:8080/"
        },
        "id": "n_mmmX7V3Res",
        "outputId": "45074794-98c9-4b22-df19-121d1f016815"
      },
      "execution_count": 6,
      "outputs": [
        {
          "output_type": "stream",
          "name": "stdout",
          "text": [
            "Cantidad de datos para el entrenamiento: 1029\n",
            "Cantidad de datos para la validación: 441\n",
            "Cantidad de datos para la prueba: 30\n"
          ]
        }
      ]
    },
    {
      "cell_type": "code",
      "source": [
        "# Se normaliza el dataset utilizando la librería StandarScaler\n",
        "from sklearn.preprocessing import StandardScaler\n",
        "import numpy as np\n",
        "\n",
        "scaler = StandardScaler()\n",
        "X_train = scaler.fit_transform( X_train )\n",
        "X_val = scaler.transform( X_val )\n",
        "X_test = scaler.transform( X_test )\n",
        "\n",
        "print(\"Datos de entrada para el entrenamiento\", X_train.shape)\n",
        "print(\"Datos de entrada para la validación\", X_val.shape)\n",
        "print(\"Datos de entrada para la prueba\", X_test.shape)"
      ],
      "metadata": {
        "colab": {
          "base_uri": "https://localhost:8080/"
        },
        "id": "VrIubPjc3ZO0",
        "outputId": "e6805edb-cbf5-422c-f75f-c6a9a1da7ffd"
      },
      "execution_count": 7,
      "outputs": [
        {
          "output_type": "stream",
          "name": "stdout",
          "text": [
            "Datos de entrada para el entrenamiento (1029, 25)\n",
            "Datos de entrada para la validación (441, 25)\n",
            "Datos de entrada para la prueba (30, 25)\n"
          ]
        }
      ]
    },
    {
      "cell_type": "code",
      "source": [
        "# Se crea el modelo de RN. Utilizamos Keras\n",
        "from keras import models\n",
        "from keras import layers\n",
        "import keras\n",
        "\n",
        "# Modelo\n",
        "modelo = models.Sequential()\n",
        "modelo.add(layers.Dense(256, activation='relu', input_shape=(X_train.shape[1],)))\n",
        "modelo.add(layers.Dropout(0.5))\n",
        "modelo.add(layers.Dense(128, activation='relu'))\n",
        "modelo.add(layers.Dropout(0.5))\n",
        "modelo.add(layers.Dense(64, activation='relu'))\n",
        "modelo.add(layers.Dropout(0.5))\n",
        "modelo.add(layers.Dense(10, activation='softmax'))\n",
        "\n",
        "# Proceso de aprendizaje del modelo\n",
        "modelo.compile(optimizer='adam',\n",
        "              loss='sparse_categorical_crossentropy',\n",
        "              metrics=['accuracy'])\n",
        "\n",
        "# Parada temprana con 3 épocas de paciencia (sin este valor, el entranamiento finaliza en la segunda época)\n",
        "from keras.callbacks import EarlyStopping\n",
        "\n",
        "es = EarlyStopping(monitor='val_loss', mode='min', verbose=1, patience=3)\n",
        "\n",
        "# Entrenamiento del modelo con 50 épocas y parada temprana para evitar sobre-entrenamiento\n",
        "historia = modelo.fit(X_train,y_train,\n",
        "                    validation_data=(X_val, y_val),\n",
        "                    epochs=50,\n",
        "                    batch_size=128,\n",
        "                    callbacks=[es])"
      ],
      "metadata": {
        "colab": {
          "base_uri": "https://localhost:8080/"
        },
        "id": "0ngCP1G-3cnU",
        "outputId": "39a98e8b-782b-4fbe-912d-a14221bb79c1"
      },
      "execution_count": 9,
      "outputs": [
        {
          "output_type": "stream",
          "name": "stdout",
          "text": [
            "Epoch 1/50\n",
            "9/9 [==============================] - 1s 24ms/step - loss: 2.4439 - accuracy: 0.1361 - val_loss: 2.1551 - val_accuracy: 0.3356\n",
            "Epoch 2/50\n",
            "9/9 [==============================] - 0s 7ms/step - loss: 2.2355 - accuracy: 0.1652 - val_loss: 2.0617 - val_accuracy: 0.4580\n",
            "Epoch 3/50\n",
            "9/9 [==============================] - 0s 7ms/step - loss: 2.0758 - accuracy: 0.2604 - val_loss: 1.9404 - val_accuracy: 0.5556\n",
            "Epoch 4/50\n",
            "9/9 [==============================] - 0s 6ms/step - loss: 1.9981 - accuracy: 0.2896 - val_loss: 1.7919 - val_accuracy: 0.6100\n",
            "Epoch 5/50\n",
            "9/9 [==============================] - 0s 7ms/step - loss: 1.8574 - accuracy: 0.3450 - val_loss: 1.6410 - val_accuracy: 0.6281\n",
            "Epoch 6/50\n",
            "9/9 [==============================] - 0s 7ms/step - loss: 1.6943 - accuracy: 0.4023 - val_loss: 1.4672 - val_accuracy: 0.6531\n",
            "Epoch 7/50\n",
            "9/9 [==============================] - 0s 8ms/step - loss: 1.6367 - accuracy: 0.4295 - val_loss: 1.2711 - val_accuracy: 0.7098\n",
            "Epoch 8/50\n",
            "9/9 [==============================] - 0s 7ms/step - loss: 1.5092 - accuracy: 0.4490 - val_loss: 1.0867 - val_accuracy: 0.7959\n",
            "Epoch 9/50\n",
            "9/9 [==============================] - 0s 8ms/step - loss: 1.3629 - accuracy: 0.5238 - val_loss: 0.9200 - val_accuracy: 0.8367\n",
            "Epoch 10/50\n",
            "9/9 [==============================] - 0s 8ms/step - loss: 1.2501 - accuracy: 0.5860 - val_loss: 0.7699 - val_accuracy: 0.8753\n",
            "Epoch 11/50\n",
            "9/9 [==============================] - 0s 6ms/step - loss: 1.1446 - accuracy: 0.6093 - val_loss: 0.6610 - val_accuracy: 0.8934\n",
            "Epoch 12/50\n",
            "9/9 [==============================] - 0s 8ms/step - loss: 1.0606 - accuracy: 0.6249 - val_loss: 0.5943 - val_accuracy: 0.8844\n",
            "Epoch 13/50\n",
            "9/9 [==============================] - 0s 9ms/step - loss: 0.9646 - accuracy: 0.6589 - val_loss: 0.5272 - val_accuracy: 0.8934\n",
            "Epoch 14/50\n",
            "9/9 [==============================] - 0s 7ms/step - loss: 0.9509 - accuracy: 0.6540 - val_loss: 0.4776 - val_accuracy: 0.8957\n",
            "Epoch 15/50\n",
            "9/9 [==============================] - 0s 6ms/step - loss: 0.9048 - accuracy: 0.6754 - val_loss: 0.4368 - val_accuracy: 0.9116\n",
            "Epoch 16/50\n",
            "9/9 [==============================] - 0s 7ms/step - loss: 0.8386 - accuracy: 0.7085 - val_loss: 0.4149 - val_accuracy: 0.9138\n",
            "Epoch 17/50\n",
            "9/9 [==============================] - 0s 7ms/step - loss: 0.8121 - accuracy: 0.7182 - val_loss: 0.3926 - val_accuracy: 0.9116\n",
            "Epoch 18/50\n",
            "9/9 [==============================] - 0s 9ms/step - loss: 0.7665 - accuracy: 0.7376 - val_loss: 0.3671 - val_accuracy: 0.9138\n",
            "Epoch 19/50\n",
            "9/9 [==============================] - 0s 8ms/step - loss: 0.8125 - accuracy: 0.7133 - val_loss: 0.3368 - val_accuracy: 0.9184\n",
            "Epoch 20/50\n",
            "9/9 [==============================] - 0s 7ms/step - loss: 0.7298 - accuracy: 0.7483 - val_loss: 0.3159 - val_accuracy: 0.9206\n",
            "Epoch 21/50\n",
            "9/9 [==============================] - 0s 8ms/step - loss: 0.6731 - accuracy: 0.7736 - val_loss: 0.2971 - val_accuracy: 0.9161\n",
            "Epoch 22/50\n",
            "9/9 [==============================] - 0s 7ms/step - loss: 0.6751 - accuracy: 0.7745 - val_loss: 0.2878 - val_accuracy: 0.9252\n",
            "Epoch 23/50\n",
            "9/9 [==============================] - 0s 7ms/step - loss: 0.6090 - accuracy: 0.7998 - val_loss: 0.2700 - val_accuracy: 0.9365\n",
            "Epoch 24/50\n",
            "9/9 [==============================] - 0s 7ms/step - loss: 0.6222 - accuracy: 0.7833 - val_loss: 0.2508 - val_accuracy: 0.9365\n",
            "Epoch 25/50\n",
            "9/9 [==============================] - 0s 7ms/step - loss: 0.5503 - accuracy: 0.8212 - val_loss: 0.2345 - val_accuracy: 0.9410\n",
            "Epoch 26/50\n",
            "9/9 [==============================] - 0s 9ms/step - loss: 0.5040 - accuracy: 0.8134 - val_loss: 0.2214 - val_accuracy: 0.9433\n",
            "Epoch 27/50\n",
            "9/9 [==============================] - 0s 8ms/step - loss: 0.5578 - accuracy: 0.8017 - val_loss: 0.2120 - val_accuracy: 0.9433\n",
            "Epoch 28/50\n",
            "9/9 [==============================] - 0s 7ms/step - loss: 0.4925 - accuracy: 0.8280 - val_loss: 0.2042 - val_accuracy: 0.9456\n",
            "Epoch 29/50\n",
            "9/9 [==============================] - 0s 9ms/step - loss: 0.4947 - accuracy: 0.8397 - val_loss: 0.2041 - val_accuracy: 0.9365\n",
            "Epoch 30/50\n",
            "9/9 [==============================] - 0s 8ms/step - loss: 0.5047 - accuracy: 0.8290 - val_loss: 0.1978 - val_accuracy: 0.9388\n",
            "Epoch 31/50\n",
            "9/9 [==============================] - 0s 7ms/step - loss: 0.4844 - accuracy: 0.8494 - val_loss: 0.1870 - val_accuracy: 0.9456\n",
            "Epoch 32/50\n",
            "9/9 [==============================] - 0s 8ms/step - loss: 0.4749 - accuracy: 0.8348 - val_loss: 0.1832 - val_accuracy: 0.9433\n",
            "Epoch 33/50\n",
            "9/9 [==============================] - 0s 9ms/step - loss: 0.4842 - accuracy: 0.8348 - val_loss: 0.1763 - val_accuracy: 0.9501\n",
            "Epoch 34/50\n",
            "9/9 [==============================] - 0s 7ms/step - loss: 0.4646 - accuracy: 0.8416 - val_loss: 0.1748 - val_accuracy: 0.9501\n",
            "Epoch 35/50\n",
            "9/9 [==============================] - 0s 8ms/step - loss: 0.4550 - accuracy: 0.8523 - val_loss: 0.1669 - val_accuracy: 0.9569\n",
            "Epoch 36/50\n",
            "9/9 [==============================] - 0s 7ms/step - loss: 0.4485 - accuracy: 0.8571 - val_loss: 0.1653 - val_accuracy: 0.9524\n",
            "Epoch 37/50\n",
            "9/9 [==============================] - 0s 9ms/step - loss: 0.4254 - accuracy: 0.8727 - val_loss: 0.1665 - val_accuracy: 0.9569\n",
            "Epoch 38/50\n",
            "9/9 [==============================] - 0s 7ms/step - loss: 0.4316 - accuracy: 0.8445 - val_loss: 0.1607 - val_accuracy: 0.9615\n",
            "Epoch 39/50\n",
            "9/9 [==============================] - 0s 9ms/step - loss: 0.4025 - accuracy: 0.8756 - val_loss: 0.1501 - val_accuracy: 0.9592\n",
            "Epoch 40/50\n",
            "9/9 [==============================] - 0s 8ms/step - loss: 0.3740 - accuracy: 0.8766 - val_loss: 0.1469 - val_accuracy: 0.9524\n",
            "Epoch 41/50\n",
            "9/9 [==============================] - 0s 8ms/step - loss: 0.3532 - accuracy: 0.8863 - val_loss: 0.1498 - val_accuracy: 0.9501\n",
            "Epoch 42/50\n",
            "9/9 [==============================] - 0s 7ms/step - loss: 0.3865 - accuracy: 0.8746 - val_loss: 0.1501 - val_accuracy: 0.9456\n",
            "Epoch 43/50\n",
            "9/9 [==============================] - 0s 7ms/step - loss: 0.3795 - accuracy: 0.8698 - val_loss: 0.1488 - val_accuracy: 0.9501\n",
            "Epoch 43: early stopping\n"
          ]
        }
      ]
    },
    {
      "cell_type": "code",
      "source": [
        "# Representación gráfica del entrenamiento\n",
        "from matplotlib import pyplot\n",
        "pyplot.plot(historia.history['loss'], label='entrenamiento')\n",
        "pyplot.plot(historia.history['val_loss'], label='prueba')\n",
        "pyplot.legend()\n",
        "pyplot.show()"
      ],
      "metadata": {
        "colab": {
          "base_uri": "https://localhost:8080/",
          "height": 265
        },
        "id": "4pO7HmRVID58",
        "outputId": "6fb7202d-1668-4956-d202-245fd93158ec"
      },
      "execution_count": 10,
      "outputs": [
        {
          "output_type": "display_data",
          "data": {
            "text/plain": [
              "<Figure size 432x288 with 1 Axes>"
            ],
            "image/png": "[encoded data removed]"
          },
          "metadata": {
            "needs_background": "light"
          }
        }
      ]
    },
    {
      "cell_type": "markdown",
      "source": [
        "# Funciones auxiliares\n",
        "Estas funciones sirven para presentar los resultados obtenidos:\n",
        "- mostrarPrediccion: muestra el resultado de la predicción de los datos de prueba.\n",
        "- reporte: muestra un reporte de los resultados utilizando una matriz de confusión"
      ],
      "metadata": {
        "id": "SU2UGJqd-7kd"
      }
    },
    {
      "cell_type": "code",
      "source": [
        "# Función para imprimir el resultado de las predicciones\n",
        "def mostrarPrediccion(X_data, y_data):\n",
        "    print('\\n# Generando predicciones...')\n",
        "    for i in range(len(y_data)):\n",
        "        prediction = np.argmax(modelo.predict(X_data[i:i+1]),axis=1)\n",
        "        print(\"y={} | predicción={} | Coincidencia={}\".format(y_data[i], prediction, y_data[i]==float(prediction[0])))"
      ],
      "metadata": {
        "id": "7pr16sGPIVYb"
      },
      "execution_count": 11,
      "outputs": []
    },
    {
      "cell_type": "code",
      "source": [
        "# Función para generar matriz de confusión y un reporte de clasificación\n",
        "import numpy as np\n",
        "from keras import backend as K\n",
        "from keras.models import Sequential\n",
        "from keras.layers.core import Dense, Dropout, Activation, Flatten\n",
        "from keras.layers.convolutional import Convolution2D, MaxPooling2D\n",
        "from keras.preprocessing.image import ImageDataGenerator\n",
        "from sklearn.metrics import classification_report, confusion_matrix\n",
        "\n",
        "def reporte(X_data, y_data):\n",
        "    Y_pred = np.argmax(modelo.predict(X_data),axis=1)\n",
        "    \n",
        "    y_test_num = y_data.astype(np.int64)\n",
        "    print('Matriz de Confusión')\n",
        "    conf_mt = confusion_matrix(y_test_num, Y_pred)\n",
        "    print(conf_mt)\n",
        "    plt.matshow(conf_mt)\n",
        "    plt.show()\n",
        "    \n",
        "    print('\\nReporte de Clasificación')\n",
        "    target_names = ['0', '1', '2', '3', '4', '5', '6', '7', '8', '9']\n",
        "    print(classification_report(y_test_num, Y_pred, target_names=target_names))"
      ],
      "metadata": {
        "id": "N2frUfbVIYs6"
      },
      "execution_count": 12,
      "outputs": []
    },
    {
      "cell_type": "markdown",
      "source": [
        "# Presentación de la performance del modelo"
      ],
      "metadata": {
        "id": "n03x3PiK_5vs"
      }
    },
    {
      "cell_type": "code",
      "source": [
        "print('\\n# DATOS DE PRUEBA #\\n')\n",
        "puntaje = modelo.evaluate(X_test, y_test)\n",
        "print(\"%s: %.2f%%\" % (modelo.metrics_names[1], puntaje[1]*100))\n",
        "\n",
        "# Predicción\n",
        "mostrarPrediccion(X_test, y_test)"
      ],
      "metadata": {
        "colab": {
          "base_uri": "https://localhost:8080/"
        },
        "id": "OgnqHV8aIbbz",
        "outputId": "254be12a-0a3c-4b20-d2b6-5dae136dc1af"
      },
      "execution_count": 13,
      "outputs": [
        {
          "output_type": "stream",
          "name": "stdout",
          "text": [
            "\n",
            "# DATOS DE PRUEBA #\n",
            "\n",
            "1/1 [==============================] - 0s 17ms/step - loss: 0.2496 - accuracy: 0.9000\n",
            "accuracy: 90.00%\n",
            "\n",
            "# Generando predicciones...\n",
            "y=4 | predicción=[4] | Coincidencia=True\n",
            "y=6 | predicción=[6] | Coincidencia=True\n",
            "y=9 | predicción=[9] | Coincidencia=True\n",
            "y=5 | predicción=[5] | Coincidencia=True\n",
            "y=6 | predicción=[6] | Coincidencia=True\n",
            "y=4 | predicción=[4] | Coincidencia=True\n",
            "y=0 | predicción=[0] | Coincidencia=True\n",
            "y=7 | predicción=[7] | Coincidencia=True\n",
            "y=9 | predicción=[9] | Coincidencia=True\n",
            "y=1 | predicción=[1] | Coincidencia=True\n",
            "y=8 | predicción=[8] | Coincidencia=True\n",
            "y=0 | predicción=[0] | Coincidencia=True\n",
            "y=8 | predicción=[8] | Coincidencia=True\n",
            "y=0 | predicción=[2] | Coincidencia=False\n",
            "y=2 | predicción=[2] | Coincidencia=True\n",
            "y=1 | predicción=[1] | Coincidencia=True\n",
            "y=5 | predicción=[5] | Coincidencia=True\n",
            "y=5 | predicción=[5] | Coincidencia=True\n",
            "y=3 | predicción=[3] | Coincidencia=True\n",
            "y=4 | predicción=[4] | Coincidencia=True\n",
            "y=6 | predicción=[6] | Coincidencia=True\n",
            "y=1 | predicción=[4] | Coincidencia=False\n",
            "y=8 | predicción=[8] | Coincidencia=True\n",
            "y=3 | predicción=[3] | Coincidencia=True\n",
            "y=2 | predicción=[2] | Coincidencia=True\n",
            "y=7 | predicción=[7] | Coincidencia=True\n",
            "y=7 | predicción=[7] | Coincidencia=True\n",
            "y=2 | predicción=[3] | Coincidencia=False\n",
            "y=9 | predicción=[9] | Coincidencia=True\n",
            "y=3 | predicción=[3] | Coincidencia=True\n"
          ]
        }
      ]
    },
    {
      "cell_type": "code",
      "source": [
        "print(\"Reporte de Clasificación para Datos de Prueba\\n\")\n",
        "reporte(X_test, y_test)"
      ],
      "metadata": {
        "colab": {
          "base_uri": "https://localhost:8080/",
          "height": 831
        },
        "id": "gFS3Xxa5PQwb",
        "outputId": "d072f6af-b1d8-4b71-9877-a90c4aff0238"
      },
      "execution_count": 14,
      "outputs": [
        {
          "output_type": "stream",
          "name": "stdout",
          "text": [
            "Reporte de Clasificación para Datos de Prueba\n",
            "\n",
            "Matriz de Confusión\n",
            "[[2 0 1 0 0 0 0 0 0 0]\n",
            " [0 2 0 0 1 0 0 0 0 0]\n",
            " [0 0 2 1 0 0 0 0 0 0]\n",
            " [0 0 0 3 0 0 0 0 0 0]\n",
            " [0 0 0 0 3 0 0 0 0 0]\n",
            " [0 0 0 0 0 3 0 0 0 0]\n",
            " [0 0 0 0 0 0 3 0 0 0]\n",
            " [0 0 0 0 0 0 0 3 0 0]\n",
            " [0 0 0 0 0 0 0 0 3 0]\n",
            " [0 0 0 0 0 0 0 0 0 3]]\n"
          ]
        },
        {
          "output_type": "display_data",
          "data": {
            "text/plain": [
              "<Figure size 288x288 with 1 Axes>"
            ],
            "image/png": "[encoded data removed]"
          },
          "metadata": {
            "needs_background": "light"
          }
        },
        {
          "output_type": "stream",
          "name": "stdout",
          "text": [
            "\n",
            "Reporte de Clasificación\n",
            "              precision    recall  f1-score   support\n",
            "\n",
            "           0       1.00      0.67      0.80         3\n",
            "           1       1.00      0.67      0.80         3\n",
            "           2       0.67      0.67      0.67         3\n",
            "           3       0.75      1.00      0.86         3\n",
            "           4       0.75      1.00      0.86         3\n",
            "           5       1.00      1.00      1.00         3\n",
            "           6       1.00      1.00      1.00         3\n",
            "           7       1.00      1.00      1.00         3\n",
            "           8       1.00      1.00      1.00         3\n",
            "           9       1.00      1.00      1.00         3\n",
            "\n",
            "    accuracy                           0.90        30\n",
            "   macro avg       0.92      0.90      0.90        30\n",
            "weighted avg       0.92      0.90      0.90        30\n",
            "\n"
          ]
        }
      ]
    },
    {
      "cell_type": "markdown",
      "source": [
        "# Sección 3\n",
        "Además del dataset utilizado en la Sección 2, se agregan 60 grabaciones extra de personas con acentos especiales:\n",
        "- **Caroline**: Niña canadiense\n",
        "- **Ankur**: Hombre originario de India\n",
        "- **Rodolfo**: Hombre originario de Brasil\n",
        "\n",
        "Cada uno de los hablantes generó, para cada dígito, una grabación para entrenamiento y una para pruebas.\n",
        "\n",
        "Por lo tanto, el conjunto de datos completo tiene:\n",
        "\n",
        "- Entrenamiento: 1500 grabaciones\n",
        "- Prueba: 60 grabaciones\n",
        "Los datos utilizados aquí provienen de las grabaciones almacenadas en:\n",
        "\n",
        "../datos/grabaciones/train\n",
        "\n",
        "../datos/grabaciones/test\n",
        "\n",
        "../data/recordings/TrainExtras\n",
        "\n",
        "../data/recordings/TestExtras\n"
      ],
      "metadata": {
        "id": "cmYupxELn98l"
      }
    },
    {
      "cell_type": "code",
      "source": [
        "# Se separa el dataset en tres partes: entrenamiento, validación y prueba\n",
        "from sklearn.model_selection import train_test_split\n",
        "\n",
        "datosTrain = trainData.append(extraTrainData)\n",
        "\n",
        "X = np.array(datosTrain.iloc[:, :-1], dtype = float)\n",
        "y = datosTrain.iloc[:, -1]\n",
        "X_train, X_val, y_train, y_val = train_test_split(X, y, test_size=0.3, random_state=42)\n",
        "\n",
        "X_test = np.array(testData.iloc[:, :-1], dtype = float)\n",
        "y_test = testData.iloc[:, -1]\n",
        "\n",
        "X_extra_test = np.array(extraTestData.iloc[:, :-1], dtype = float)\n",
        "y_extra_test = extraTestData.iloc[:, -1]\n",
        "\n",
        "print(\"Cantidad de datos para el entrenamiento:\", y_train.shape[0])\n",
        "print(\"Cantidad de datos para la validación:\", y_val.shape[0])\n",
        "print(\"Cantidad de datos para la prueba:\", y_test.shape[0])\n",
        "print(\"Cantidad de datos extra para la prueba:\", y_extra_test.shape[0])"
      ],
      "metadata": {
        "colab": {
          "base_uri": "https://localhost:8080/"
        },
        "id": "hVfM8K4lPZa8",
        "outputId": "86533f81-ba89-4f37-b0e8-d71a894e858b"
      },
      "execution_count": 15,
      "outputs": [
        {
          "output_type": "stream",
          "name": "stdout",
          "text": [
            "Cantidad de datos para el entrenamiento: 1050\n",
            "Cantidad de datos para la validación: 450\n",
            "Cantidad de datos para la prueba: 30\n",
            "Cantidad de datos extra para la prueba: 30\n"
          ]
        }
      ]
    },
    {
      "cell_type": "code",
      "source": [
        "# Se normaliza el dataset utilizando la librería StandarScaler\n",
        "from sklearn.preprocessing import StandardScaler\n",
        "import numpy as np\n",
        "scaler = StandardScaler()\n",
        "X_train = scaler.fit_transform( X_train )\n",
        "X_val = scaler.transform( X_val )\n",
        "X_test = scaler.transform( X_test )\n",
        "X_extra_test = scaler.transform( X_extra_test )\n",
        "\n",
        "print(\"Datos de entrada para el entrenamiento\", X_train.shape)\n",
        "print(\"Datos de entrada para la validación\", X_val.shape)\n",
        "print(\"Datos de entrada para la prueba\", X_test.shape)\n",
        "print(\"Datos extra de entrada para la prueba\", X_extra_test.shape)"
      ],
      "metadata": {
        "colab": {
          "base_uri": "https://localhost:8080/"
        },
        "id": "7Y4xLAqEPc6s",
        "outputId": "06b574ad-d4ce-4e38-ea4c-ec8e74892c6b"
      },
      "execution_count": 16,
      "outputs": [
        {
          "output_type": "stream",
          "name": "stdout",
          "text": [
            "Datos de entrada para el entrenamiento (1050, 25)\n",
            "Datos de entrada para la validación (450, 25)\n",
            "Datos de entrada para la prueba (30, 25)\n",
            "Datos extra de entrada para la prueba (30, 25)\n"
          ]
        }
      ]
    },
    {
      "cell_type": "code",
      "source": [
        "# Se crea el modelo de RN. Utilizamos Keras\n",
        "from keras import models\n",
        "from keras import layers\n",
        "import keras\n",
        "\n",
        "# Modelo\n",
        "modelo = models.Sequential()\n",
        "modelo.add(layers.Dense(256, activation='relu', input_shape=(X_train.shape[1],)))\n",
        "modelo.add(layers.Dropout(0.5))\n",
        "modelo.add(layers.Dense(128, activation='relu'))\n",
        "modelo.add(layers.Dropout(0.5))\n",
        "modelo.add(layers.Dense(64, activation='relu'))\n",
        "modelo.add(layers.Dropout(0.5))\n",
        "modelo.add(layers.Dense(10, activation='softmax'))\n",
        "\n",
        "# Proceso de Aprendizaje del modelo\n",
        "modelo.compile(optimizer='adam',\n",
        "              loss='sparse_categorical_crossentropy',\n",
        "              metrics=['accuracy'])\n",
        "\n",
        "# Parada temprana con 3 épocas de paciencia (sin este valor, el entranamiento finaliza en la segunda época)\n",
        "from keras.callbacks import EarlyStopping\n",
        "\n",
        "es = EarlyStopping(monitor='val_loss', mode='min', verbose=1, patience=3)\n",
        "\n",
        "# Entrenamiento del modelo con 50 épocas y parada temprana para evitar sobre-entrenamiento\n",
        "historia = modelo.fit(X_train,\n",
        "                    y_train,\n",
        "                    validation_data=(X_val, y_val),\n",
        "                    epochs=50,\n",
        "                    batch_size=128,\n",
        "                    callbacks=[es])"
      ],
      "metadata": {
        "colab": {
          "base_uri": "https://localhost:8080/"
        },
        "id": "A7F4Y3ZAPhv0",
        "outputId": "474507ab-3aff-46f5-97c4-2643d1099568"
      },
      "execution_count": 17,
      "outputs": [
        {
          "output_type": "stream",
          "name": "stdout",
          "text": [
            "Epoch 1/50\n",
            "9/9 [==============================] - 1s 24ms/step - loss: 2.4450 - accuracy: 0.1438 - val_loss: 2.0985 - val_accuracy: 0.3156\n",
            "Epoch 2/50\n",
            "9/9 [==============================] - 0s 8ms/step - loss: 2.2044 - accuracy: 0.1990 - val_loss: 1.9607 - val_accuracy: 0.5467\n",
            "Epoch 3/50\n",
            "9/9 [==============================] - 0s 9ms/step - loss: 2.0613 - accuracy: 0.2724 - val_loss: 1.7959 - val_accuracy: 0.6600\n",
            "Epoch 4/50\n",
            "9/9 [==============================] - 0s 7ms/step - loss: 1.8945 - accuracy: 0.3371 - val_loss: 1.5991 - val_accuracy: 0.7089\n",
            "Epoch 5/50\n",
            "9/9 [==============================] - 0s 7ms/step - loss: 1.7652 - accuracy: 0.3695 - val_loss: 1.4032 - val_accuracy: 0.7511\n",
            "Epoch 6/50\n",
            "9/9 [==============================] - 0s 8ms/step - loss: 1.6036 - accuracy: 0.4181 - val_loss: 1.2057 - val_accuracy: 0.7800\n",
            "Epoch 7/50\n",
            "9/9 [==============================] - 0s 7ms/step - loss: 1.5260 - accuracy: 0.4552 - val_loss: 1.0353 - val_accuracy: 0.8267\n",
            "Epoch 8/50\n",
            "9/9 [==============================] - 0s 10ms/step - loss: 1.4169 - accuracy: 0.4981 - val_loss: 0.8882 - val_accuracy: 0.8578\n",
            "Epoch 9/50\n",
            "9/9 [==============================] - 0s 8ms/step - loss: 1.2745 - accuracy: 0.5505 - val_loss: 0.7794 - val_accuracy: 0.8711\n",
            "Epoch 10/50\n",
            "9/9 [==============================] - 0s 8ms/step - loss: 1.1506 - accuracy: 0.5771 - val_loss: 0.6757 - val_accuracy: 0.8911\n",
            "Epoch 11/50\n",
            "9/9 [==============================] - 0s 9ms/step - loss: 1.1334 - accuracy: 0.6010 - val_loss: 0.5897 - val_accuracy: 0.9067\n",
            "Epoch 12/50\n",
            "9/9 [==============================] - 0s 7ms/step - loss: 1.0176 - accuracy: 0.6524 - val_loss: 0.5275 - val_accuracy: 0.9111\n",
            "Epoch 13/50\n",
            "9/9 [==============================] - 0s 7ms/step - loss: 0.9846 - accuracy: 0.6752 - val_loss: 0.4775 - val_accuracy: 0.9178\n",
            "Epoch 14/50\n",
            "9/9 [==============================] - 0s 8ms/step - loss: 0.8927 - accuracy: 0.6886 - val_loss: 0.4285 - val_accuracy: 0.9244\n",
            "Epoch 15/50\n",
            "9/9 [==============================] - 0s 8ms/step - loss: 0.8027 - accuracy: 0.7238 - val_loss: 0.3904 - val_accuracy: 0.9333\n",
            "Epoch 16/50\n",
            "9/9 [==============================] - 0s 7ms/step - loss: 0.8405 - accuracy: 0.7143 - val_loss: 0.3626 - val_accuracy: 0.9378\n",
            "Epoch 17/50\n",
            "9/9 [==============================] - 0s 7ms/step - loss: 0.7747 - accuracy: 0.7362 - val_loss: 0.3577 - val_accuracy: 0.9356\n",
            "Epoch 18/50\n",
            "9/9 [==============================] - 0s 6ms/step - loss: 0.7179 - accuracy: 0.7657 - val_loss: 0.3355 - val_accuracy: 0.9400\n",
            "Epoch 19/50\n",
            "9/9 [==============================] - 0s 6ms/step - loss: 0.6778 - accuracy: 0.7733 - val_loss: 0.3092 - val_accuracy: 0.9467\n",
            "Epoch 20/50\n",
            "9/9 [==============================] - 0s 8ms/step - loss: 0.6732 - accuracy: 0.7552 - val_loss: 0.2961 - val_accuracy: 0.9511\n",
            "Epoch 21/50\n",
            "9/9 [==============================] - 0s 8ms/step - loss: 0.6503 - accuracy: 0.7762 - val_loss: 0.2887 - val_accuracy: 0.9422\n",
            "Epoch 22/50\n",
            "9/9 [==============================] - 0s 6ms/step - loss: 0.6047 - accuracy: 0.7981 - val_loss: 0.2799 - val_accuracy: 0.9444\n",
            "Epoch 23/50\n",
            "9/9 [==============================] - 0s 7ms/step - loss: 0.5984 - accuracy: 0.7924 - val_loss: 0.2707 - val_accuracy: 0.9422\n",
            "Epoch 24/50\n",
            "9/9 [==============================] - 0s 8ms/step - loss: 0.5466 - accuracy: 0.8152 - val_loss: 0.2682 - val_accuracy: 0.9444\n",
            "Epoch 25/50\n",
            "9/9 [==============================] - 0s 8ms/step - loss: 0.5743 - accuracy: 0.8124 - val_loss: 0.2685 - val_accuracy: 0.9378\n",
            "Epoch 26/50\n",
            "9/9 [==============================] - 0s 7ms/step - loss: 0.5090 - accuracy: 0.8314 - val_loss: 0.2590 - val_accuracy: 0.9444\n",
            "Epoch 27/50\n",
            "9/9 [==============================] - 0s 8ms/step - loss: 0.5280 - accuracy: 0.8343 - val_loss: 0.2573 - val_accuracy: 0.9444\n",
            "Epoch 28/50\n",
            "9/9 [==============================] - 0s 6ms/step - loss: 0.5159 - accuracy: 0.8286 - val_loss: 0.2581 - val_accuracy: 0.9400\n",
            "Epoch 29/50\n",
            "9/9 [==============================] - 0s 9ms/step - loss: 0.4612 - accuracy: 0.8476 - val_loss: 0.2540 - val_accuracy: 0.9511\n",
            "Epoch 30/50\n",
            "9/9 [==============================] - 0s 9ms/step - loss: 0.4434 - accuracy: 0.8571 - val_loss: 0.2432 - val_accuracy: 0.9489\n",
            "Epoch 31/50\n",
            "9/9 [==============================] - 0s 7ms/step - loss: 0.4669 - accuracy: 0.8629 - val_loss: 0.2293 - val_accuracy: 0.9511\n",
            "Epoch 32/50\n",
            "9/9 [==============================] - 0s 8ms/step - loss: 0.4598 - accuracy: 0.8514 - val_loss: 0.2241 - val_accuracy: 0.9511\n",
            "Epoch 33/50\n",
            "9/9 [==============================] - 0s 7ms/step - loss: 0.4521 - accuracy: 0.8524 - val_loss: 0.2203 - val_accuracy: 0.9556\n",
            "Epoch 34/50\n",
            "9/9 [==============================] - 0s 8ms/step - loss: 0.4516 - accuracy: 0.8543 - val_loss: 0.2192 - val_accuracy: 0.9511\n",
            "Epoch 35/50\n",
            "9/9 [==============================] - 0s 8ms/step - loss: 0.4236 - accuracy: 0.8638 - val_loss: 0.2274 - val_accuracy: 0.9533\n",
            "Epoch 36/50\n",
            "9/9 [==============================] - 0s 9ms/step - loss: 0.3873 - accuracy: 0.8810 - val_loss: 0.2308 - val_accuracy: 0.9511\n",
            "Epoch 37/50\n",
            "9/9 [==============================] - 0s 7ms/step - loss: 0.3969 - accuracy: 0.8648 - val_loss: 0.2284 - val_accuracy: 0.9489\n",
            "Epoch 37: early stopping\n"
          ]
        }
      ]
    },
    {
      "cell_type": "code",
      "source": [
        "# Representación gráfica del entrenamiento\n",
        "from matplotlib import pyplot\n",
        "pyplot.plot(historia.history['loss'], label='entrenamiento')\n",
        "pyplot.plot(historia.history['val_loss'], label='prueba')\n",
        "pyplot.legend()\n",
        "pyplot.show()"
      ],
      "metadata": {
        "colab": {
          "base_uri": "https://localhost:8080/",
          "height": 265
        },
        "id": "AdQK6BV_PmLc",
        "outputId": "408f8395-113f-43e9-caea-583b23a075c4"
      },
      "execution_count": 18,
      "outputs": [
        {
          "output_type": "display_data",
          "data": {
            "text/plain": [
              "<Figure size 432x288 with 1 Axes>"
            ],
            "image/png": "[encoded data removed]"
          },
          "metadata": {
            "needs_background": "light"
          }
        }
      ]
    },
    {
      "cell_type": "markdown",
      "source": [
        "# Presentación de la performance del modelo"
      ],
      "metadata": {
        "id": "IjF5yJYBBu0d"
      }
    },
    {
      "cell_type": "code",
      "source": [
        "print('\\n# DATOS DE PRUEBA #\\n')\n",
        "puntaje = modelo.evaluate(X_test, y_test)\n",
        "print(\"%s: %.2f%%\" % (modelo.metrics_names[1], puntaje[1]*100))\n",
        "\n",
        "# Predicción\n",
        "mostrarPrediccion(X_test, y_test)"
      ],
      "metadata": {
        "colab": {
          "base_uri": "https://localhost:8080/"
        },
        "id": "nBXqygHuPpE1",
        "outputId": "507e196a-a32e-4b56-b755-a8d30825125e"
      },
      "execution_count": 19,
      "outputs": [
        {
          "output_type": "stream",
          "name": "stdout",
          "text": [
            "\n",
            "# DATOS DE PRUEBA #\n",
            "\n",
            "1/1 [==============================] - 0s 16ms/step - loss: 0.2468 - accuracy: 0.9333\n",
            "accuracy: 93.33%\n",
            "\n",
            "# Generando predicciones...\n",
            "y=4 | predicción=[4] | Coincidencia=True\n",
            "y=6 | predicción=[6] | Coincidencia=True\n",
            "y=9 | predicción=[9] | Coincidencia=True\n",
            "y=5 | predicción=[5] | Coincidencia=True\n",
            "y=6 | predicción=[6] | Coincidencia=True\n",
            "y=4 | predicción=[4] | Coincidencia=True\n",
            "y=0 | predicción=[0] | Coincidencia=True\n",
            "y=7 | predicción=[7] | Coincidencia=True\n",
            "y=9 | predicción=[9] | Coincidencia=True\n",
            "y=1 | predicción=[1] | Coincidencia=True\n",
            "y=8 | predicción=[8] | Coincidencia=True\n",
            "y=0 | predicción=[0] | Coincidencia=True\n",
            "y=8 | predicción=[8] | Coincidencia=True\n",
            "y=0 | predicción=[2] | Coincidencia=False\n",
            "y=2 | predicción=[2] | Coincidencia=True\n",
            "y=1 | predicción=[1] | Coincidencia=True\n",
            "y=5 | predicción=[5] | Coincidencia=True\n",
            "y=5 | predicción=[5] | Coincidencia=True\n",
            "y=3 | predicción=[3] | Coincidencia=True\n",
            "y=4 | predicción=[4] | Coincidencia=True\n",
            "y=6 | predicción=[6] | Coincidencia=True\n",
            "y=1 | predicción=[1] | Coincidencia=True\n",
            "y=8 | predicción=[8] | Coincidencia=True\n",
            "y=3 | predicción=[3] | Coincidencia=True\n",
            "y=2 | predicción=[2] | Coincidencia=True\n",
            "y=7 | predicción=[7] | Coincidencia=True\n",
            "y=7 | predicción=[7] | Coincidencia=True\n",
            "y=2 | predicción=[3] | Coincidencia=False\n",
            "y=9 | predicción=[9] | Coincidencia=True\n",
            "y=3 | predicción=[3] | Coincidencia=True\n"
          ]
        }
      ]
    },
    {
      "cell_type": "code",
      "source": [
        "print('\\n# DATOS DE PRUEBA EXTRA #\\n')\n",
        "puntaje = modelo.evaluate(X_extra_test, y_extra_test)\n",
        "print(\"%s: %.2f%%\" % (modelo.metrics_names[1], puntaje[1]*100))\n",
        "\n",
        "# Predicción\n",
        "mostrarPrediccion(X_extra_test, y_extra_test)"
      ],
      "metadata": {
        "colab": {
          "base_uri": "https://localhost:8080/"
        },
        "id": "EuEEkTk5PreE",
        "outputId": "728533f2-7aa2-4b5f-b9a9-4848bb82315e"
      },
      "execution_count": 20,
      "outputs": [
        {
          "output_type": "stream",
          "name": "stdout",
          "text": [
            "\n",
            "# DATOS DE PRUEBA EXTRA #\n",
            "\n",
            "1/1 [==============================] - 0s 16ms/step - loss: 2.7595 - accuracy: 0.2667\n",
            "accuracy: 26.67%\n",
            "\n",
            "# Generando predicciones...\n",
            "y=9 | predicción=[0] | Coincidencia=False\n",
            "y=6 | predicción=[6] | Coincidencia=True\n",
            "y=5 | predicción=[2] | Coincidencia=False\n",
            "y=8 | predicción=[6] | Coincidencia=False\n",
            "y=3 | predicción=[8] | Coincidencia=False\n",
            "y=1 | predicción=[9] | Coincidencia=False\n",
            "y=2 | predicción=[6] | Coincidencia=False\n",
            "y=2 | predicción=[8] | Coincidencia=False\n",
            "y=7 | predicción=[0] | Coincidencia=False\n",
            "y=3 | predicción=[3] | Coincidencia=True\n",
            "y=4 | predicción=[8] | Coincidencia=False\n",
            "y=4 | predicción=[5] | Coincidencia=False\n",
            "y=9 | predicción=[9] | Coincidencia=True\n",
            "y=8 | predicción=[6] | Coincidencia=False\n",
            "y=4 | predicción=[5] | Coincidencia=False\n",
            "y=0 | predicción=[8] | Coincidencia=False\n",
            "y=0 | predicción=[8] | Coincidencia=False\n",
            "y=8 | predicción=[8] | Coincidencia=True\n",
            "y=1 | predicción=[1] | Coincidencia=True\n",
            "y=5 | predicción=[5] | Coincidencia=True\n",
            "y=5 | predicción=[5] | Coincidencia=True\n",
            "y=9 | predicción=[0] | Coincidencia=False\n",
            "y=6 | predicción=[6] | Coincidencia=True\n",
            "y=3 | predicción=[6] | Coincidencia=False\n",
            "y=7 | predicción=[8] | Coincidencia=False\n",
            "y=1 | predicción=[4] | Coincidencia=False\n",
            "y=7 | predicción=[5] | Coincidencia=False\n",
            "y=6 | predicción=[8] | Coincidencia=False\n",
            "y=0 | predicción=[1] | Coincidencia=False\n",
            "y=2 | predicción=[0] | Coincidencia=False\n"
          ]
        }
      ]
    },
    {
      "cell_type": "code",
      "source": [
        "print(\"Reporte de Clasificación para Datos de Prueba\\n\")\n",
        "reporte(X_test, y_test)\n",
        "\n",
        "print(\"Reporte de Clasificación para Datos de Prueba Extra\\n\")\n",
        "reporte(X_extra_test, y_extra_test)"
      ],
      "metadata": {
        "colab": {
          "base_uri": "https://localhost:8080/",
          "height": 1000
        },
        "id": "-N9y--ViPvSc",
        "outputId": "42039c7a-ce9b-4e56-f098-b190ab26be0c"
      },
      "execution_count": 21,
      "outputs": [
        {
          "output_type": "stream",
          "name": "stdout",
          "text": [
            "Reporte de Clasificación para Datos de Prueba\n",
            "\n",
            "Matriz de Confusión\n",
            "[[2 0 1 0 0 0 0 0 0 0]\n",
            " [0 3 0 0 0 0 0 0 0 0]\n",
            " [0 0 2 1 0 0 0 0 0 0]\n",
            " [0 0 0 3 0 0 0 0 0 0]\n",
            " [0 0 0 0 3 0 0 0 0 0]\n",
            " [0 0 0 0 0 3 0 0 0 0]\n",
            " [0 0 0 0 0 0 3 0 0 0]\n",
            " [0 0 0 0 0 0 0 3 0 0]\n",
            " [0 0 0 0 0 0 0 0 3 0]\n",
            " [0 0 0 0 0 0 0 0 0 3]]\n"
          ]
        },
        {
          "output_type": "display_data",
          "data": {
            "text/plain": [
              "<Figure size 288x288 with 1 Axes>"
            ],
            "image/png": "[encoded data removed]"
          },
          "metadata": {
            "needs_background": "light"
          }
        },
        {
          "output_type": "stream",
          "name": "stdout",
          "text": [
            "\n",
            "Reporte de Clasificación\n",
            "              precision    recall  f1-score   support\n",
            "\n",
            "           0       1.00      0.67      0.80         3\n",
            "           1       1.00      1.00      1.00         3\n",
            "           2       0.67      0.67      0.67         3\n",
            "           3       0.75      1.00      0.86         3\n",
            "           4       1.00      1.00      1.00         3\n",
            "           5       1.00      1.00      1.00         3\n",
            "           6       1.00      1.00      1.00         3\n",
            "           7       1.00      1.00      1.00         3\n",
            "           8       1.00      1.00      1.00         3\n",
            "           9       1.00      1.00      1.00         3\n",
            "\n",
            "    accuracy                           0.93        30\n",
            "   macro avg       0.94      0.93      0.93        30\n",
            "weighted avg       0.94      0.93      0.93        30\n",
            "\n",
            "Reporte de Clasificación para Datos de Prueba Extra\n",
            "\n",
            "Matriz de Confusión\n",
            "[[0 1 0 0 0 0 0 0 2 0]\n",
            " [0 1 0 0 1 0 0 0 0 1]\n",
            " [1 0 0 0 0 0 1 0 1 0]\n",
            " [0 0 0 1 0 0 1 0 1 0]\n",
            " [0 0 0 0 0 2 0 0 1 0]\n",
            " [0 0 1 0 0 2 0 0 0 0]\n",
            " [0 0 0 0 0 0 2 0 1 0]\n",
            " [1 0 0 0 0 1 0 0 1 0]\n",
            " [0 0 0 0 0 0 2 0 1 0]\n",
            " [2 0 0 0 0 0 0 0 0 1]]\n"
          ]
        },
        {
          "output_type": "display_data",
          "data": {
            "text/plain": [
              "<Figure size 288x288 with 1 Axes>"
            ],
            "image/png": "[encoded data removed]"
          },
          "metadata": {
            "needs_background": "light"
          }
        },
        {
          "output_type": "stream",
          "name": "stdout",
          "text": [
            "\n",
            "Reporte de Clasificación\n",
            "              precision    recall  f1-score   support\n",
            "\n",
            "           0       0.00      0.00      0.00         3\n",
            "           1       0.50      0.33      0.40         3\n",
            "           2       0.00      0.00      0.00         3\n",
            "           3       1.00      0.33      0.50         3\n",
            "           4       0.00      0.00      0.00         3\n",
            "           5       0.40      0.67      0.50         3\n",
            "           6       0.33      0.67      0.44         3\n",
            "           7       0.00      0.00      0.00         3\n",
            "           8       0.12      0.33      0.18         3\n",
            "           9       0.50      0.33      0.40         3\n",
            "\n",
            "    accuracy                           0.27        30\n",
            "   macro avg       0.29      0.27      0.24        30\n",
            "weighted avg       0.29      0.27      0.24        30\n",
            "\n"
          ]
        },
        {
          "output_type": "stream",
          "name": "stderr",
          "text": [
            "/usr/local/lib/python3.7/dist-packages/sklearn/metrics/_classification.py:1318: UndefinedMetricWarning: Precision and F-score are ill-defined and being set to 0.0 in labels with no predicted samples. Use `zero_division` parameter to control this behavior.\n",
            "  _warn_prf(average, modifier, msg_start, len(result))\n",
            "/usr/local/lib/python3.7/dist-packages/sklearn/metrics/_classification.py:1318: UndefinedMetricWarning: Precision and F-score are ill-defined and being set to 0.0 in labels with no predicted samples. Use `zero_division` parameter to control this behavior.\n",
            "  _warn_prf(average, modifier, msg_start, len(result))\n",
            "/usr/local/lib/python3.7/dist-packages/sklearn/metrics/_classification.py:1318: UndefinedMetricWarning: Precision and F-score are ill-defined and being set to 0.0 in labels with no predicted samples. Use `zero_division` parameter to control this behavior.\n",
            "  _warn_prf(average, modifier, msg_start, len(result))\n"
          ]
        }
      ]
    }
  ]
}